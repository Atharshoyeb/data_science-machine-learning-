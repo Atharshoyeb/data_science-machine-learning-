{
  "nbformat": 4,
  "nbformat_minor": 0,
  "metadata": {
    "colab": {
      "provenance": [],
      "authorship_tag": "ABX9TyOnczNBx1/QhJRL54FutVWk",
      "include_colab_link": true
    },
    "kernelspec": {
      "name": "python3",
      "display_name": "Python 3"
    },
    "language_info": {
      "name": "python"
    }
  },
  "cells": [
    {
      "cell_type": "markdown",
      "metadata": {
        "id": "view-in-github",
        "colab_type": "text"
      },
      "source": [
        "<a href=\"https://colab.research.google.com/github/Atharshoyeb/data_science-machine-learning-/blob/main/Untitled0.ipynb\" target=\"_parent\"><img src=\"https://colab.research.google.com/assets/colab-badge.svg\" alt=\"Open In Colab\"/></a>"
      ]
    },
    {
      "cell_type": "markdown",
      "source": [
        "\n",
        "\n",
        "\n",
        "# **Analyzing app categories best to generate revenue**\n",
        "\n"
      ],
      "metadata": {
        "id": "DdsCNIZCydbJ"
      }
    },
    {
      "cell_type": "markdown",
      "source": [
        "## Reading the csv file"
      ],
      "metadata": {
        "id": "n0ZDWo20zFJc"
      }
    },
    {
      "cell_type": "code",
      "execution_count": 93,
      "metadata": {
        "id": "MtuU-xddHJFf"
      },
      "outputs": [],
      "source": [
        "from csv import reader\n",
        "apple_data1=list(reader(open('AppleStore.csv')))\n",
        "\n",
        "apple_hdr=apple_data1[:1]\n",
        "apple=apple_data1[1:]\n",
        "\n",
        "google_data1=list(reader(open('googleplaystore.csv')))\n",
        "\n",
        "google_hdr=google_data1[:1]\n",
        "google=google_data1[1:]"
      ]
    },
    {
      "cell_type": "code",
      "source": [
        "def explore_datasets(data,start_index,end_index,rows_and_columns=False):\n",
        "    dataset_slice=data[start_index:end_index]\n",
        "    print(data[:6])\n",
        "    if  rows_and_columns:\n",
        "        print('no of rows %s '%(len(data)))\n",
        "        print('no of columns %s '%(len(data[0])))\n"
      ],
      "metadata": {
        "id": "Qst8afLFJowY"
      },
      "execution_count": 94,
      "outputs": []
    },
    {
      "cell_type": "code",
      "source": [
        "explore_datasets(google,1,8,True)"
      ],
      "metadata": {
        "colab": {
          "base_uri": "https://localhost:8080/"
        },
        "id": "fY7XkuyRLTLR",
        "outputId": "d7f4763b-f6cd-41a7-909c-3f3d4247abd1"
      },
      "execution_count": 95,
      "outputs": [
        {
          "output_type": "stream",
          "name": "stdout",
          "text": [
            "[['Photo Editor & Candy Camera & Grid & ScrapBook', 'ART_AND_DESIGN', '4.1', '159', '19M', '10,000+', 'Free', '0', 'Everyone', 'Art & Design', 'January 7, 2018', '1.0.0', '4.0.3 and up'], ['Coloring book moana', 'ART_AND_DESIGN', '3.9', '967', '14M', '500,000+', 'Free', '0', 'Everyone', 'Art & Design;Pretend Play', 'January 15, 2018', '2.0.0', '4.0.3 and up'], ['U Launcher Lite – FREE Live Cool Themes, Hide Apps', 'ART_AND_DESIGN', '4.7', '87510', '8.7M', '5,000,000+', 'Free', '0', 'Everyone', 'Art & Design', 'August 1, 2018', '1.2.4', '4.0.3 and up'], ['Sketch - Draw & Paint', 'ART_AND_DESIGN', '4.5', '215644', '25M', '50,000,000+', 'Free', '0', 'Teen', 'Art & Design', 'June 8, 2018', 'Varies with device', '4.2 and up'], ['Pixel Draw - Number Art Coloring Book', 'ART_AND_DESIGN', '4.3', '967', '2.8M', '100,000+', 'Free', '0', 'Everyone', 'Art & Design;Creativity', 'June 20, 2018', '1.1', '4.4 and up'], ['Paper flowers instructions', 'ART_AND_DESIGN', '4.4', '167', '5.6M', '50,000+', 'Free', '0', 'Everyone', 'Art & Design', 'March 26, 2017', '1.0', '2.3 and up']]\n",
            "no of rows 10841 \n",
            "no of columns 13 \n"
          ]
        }
      ]
    },
    {
      "cell_type": "code",
      "source": [
        "explore_datasets(apple,2,6,False)"
      ],
      "metadata": {
        "colab": {
          "base_uri": "https://localhost:8080/"
        },
        "id": "QoCsxhgjMs2p",
        "outputId": "aef35e7a-08e4-404c-d352-830cf8d7ceb6"
      },
      "execution_count": 96,
      "outputs": [
        {
          "output_type": "stream",
          "name": "stdout",
          "text": [
            "[['1', '281656475', 'PAC-MAN Premium', '100788224', 'USD', '3.99', '21292', '26', '4', '4.5', '6.3.5', '4+', 'Games', '38', '5', '10', '1'], ['2', '281796108', 'Evernote - stay organized', '158578688', 'USD', '0', '161065', '26', '4', '3.5', '8.2.2', '4+', 'Productivity', '37', '5', '23', '1'], ['3', '281940292', 'WeatherBug - Local Weather, Radar, Maps, Alerts', '100524032', 'USD', '0', '188583', '2822', '3.5', '4.5', '5.0.0', '4+', 'Weather', '37', '5', '3', '1'], ['4', '282614216', 'eBay: Best App to Buy, Sell, Save! Online Shopping', '128512000', 'USD', '0', '262241', '649', '4', '4.5', '5.10.0', '12+', 'Shopping', '37', '5', '9', '1'], ['5', '282935706', 'Bible', '92774400', 'USD', '0', '985920', '5320', '4.5', '5', '7.5.1', '4+', 'Reference', '37', '5', '45', '1'], ['6', '283619399', 'Shanghai Mahjong', '10485713', 'USD', '0.99', '8253', '5516', '4', '4', '1.8', '4+', 'Games', '47', '5', '1', '1']]\n"
          ]
        }
      ]
    },
    {
      "cell_type": "code",
      "source": [
        "print(google[10472]) #incorrect row\n",
        "print('\\n')\n",
        "print(google_hdr)\n",
        "print(google[10467]) #correct"
      ],
      "metadata": {
        "colab": {
          "base_uri": "https://localhost:8080/"
        },
        "id": "1oTUnCoYOyK0",
        "outputId": "e0ec74b1-cd7b-4fc7-d6ed-84f1eae44d13"
      },
      "execution_count": 97,
      "outputs": [
        {
          "output_type": "stream",
          "name": "stdout",
          "text": [
            "['Life Made WI-Fi Touchscreen Photo Frame', '1.9', '19', '3.0M', '1,000+', 'Free', '0', 'Everyone', '', 'February 11, 2018', '1.0.19', '4.0 and up']\n",
            "\n",
            "\n",
            "[['App', 'Category', 'Rating', 'Reviews', 'Size', 'Installs', 'Type', 'Price', 'Content Rating', 'Genres', 'Last Updated', 'Current Ver', 'Android Ver']]\n",
            "['FI CFL', 'FINANCE', '3.7', '112', '3.9M', '10,000+', 'Free', '0', 'Everyone', 'Finance', 'July 5, 2018', '1.1.1', '5.0 and up']\n"
          ]
        }
      ]
    },
    {
      "cell_type": "code",
      "source": [
        "print(len(google))\n",
        "del google[10472]\n",
        "print(len(google))"
      ],
      "metadata": {
        "colab": {
          "base_uri": "https://localhost:8080/"
        },
        "id": "k6VhoHmFPtPe",
        "outputId": "5e5384f4-8a17-4fa8-ed16-c9e01b5d1f2c"
      },
      "execution_count": 98,
      "outputs": [
        {
          "output_type": "stream",
          "name": "stdout",
          "text": [
            "10841\n",
            "10840\n"
          ]
        }
      ]
    },
    {
      "cell_type": "code",
      "source": [
        "duplicate_apps=[]\n",
        "unique_apps=[]\n",
        "for app in google:\n",
        "  app_name=app[0]\n",
        "  if app_name in unique_apps:\n",
        "     duplicate_apps.append(app_name)\n",
        "  else:\n",
        "     unique_apps.append(app_name)\n",
        "print('No of duplicate entries in google dataset',len (duplicate_apps))\n",
        "print('No of unique entries in google dataset',len (unique_apps))\n",
        "\n",
        "duplicate_apps_apple=[]\n",
        "unique_apps_apple=[]\n",
        "for app in apple:\n",
        "  app_name=app[0]\n",
        "  if app_name in unique_apps_apple:\n",
        "     duplicate_apps_apple.append(app_name)\n",
        "  else:\n",
        "     unique_apps_apple.append(app_name)\n",
        "print('No of duplicate entries in apple dataset',len (duplicate_apps_apple))\n",
        "print('No of unique entries in apple dataset',len (unique_apps_apple))"
      ],
      "metadata": {
        "colab": {
          "base_uri": "https://localhost:8080/"
        },
        "id": "9-w9C6I6P543",
        "outputId": "0f4a4485-12e2-4078-abdf-3be91ddf4768"
      },
      "execution_count": 99,
      "outputs": [
        {
          "output_type": "stream",
          "name": "stdout",
          "text": [
            "No of duplicate entries in google dataset 1181\n",
            "No of unique entries in google dataset 9659\n",
            "No of duplicate entries in apple dataset 0\n",
            "No of unique entries in apple dataset 7197\n"
          ]
        }
      ]
    },
    {
      "cell_type": "code",
      "source": [
        "print(duplicate_apps[:5])"
      ],
      "metadata": {
        "colab": {
          "base_uri": "https://localhost:8080/"
        },
        "id": "EVBYR7cRSPvq",
        "outputId": "64b7ef88-15d3-4b98-95bf-f307fd4c667e"
      },
      "execution_count": 100,
      "outputs": [
        {
          "output_type": "stream",
          "name": "stdout",
          "text": [
            "['Quick PDF Scanner + OCR FREE', 'Box', 'Google My Business', 'ZOOM Cloud Meetings', 'join.me - Simple Meetings']\n"
          ]
        }
      ]
    },
    {
      "cell_type": "code",
      "source": [
        "for app in google:\n",
        "  if app[0]==duplicate_apps[4]:\n",
        "    print(app)\n"
      ],
      "metadata": {
        "colab": {
          "base_uri": "https://localhost:8080/"
        },
        "id": "iwEZgi_qTRg9",
        "outputId": "afff7c32-aa5e-4398-b7a3-858b969b17b2"
      },
      "execution_count": 101,
      "outputs": [
        {
          "output_type": "stream",
          "name": "stdout",
          "text": [
            "['join.me - Simple Meetings', 'BUSINESS', '4.0', '6989', 'Varies with device', '1,000,000+', 'Free', '0', 'Everyone', 'Business', 'July 16, 2018', '4.3.0.508', '4.4 and up']\n",
            "['join.me - Simple Meetings', 'BUSINESS', '4.0', '6989', 'Varies with device', '1,000,000+', 'Free', '0', 'Everyone', 'Business', 'July 16, 2018', '4.3.0.508', '4.4 and up']\n",
            "['join.me - Simple Meetings', 'BUSINESS', '4.0', '6989', 'Varies with device', '1,000,000+', 'Free', '0', 'Everyone', 'Business', 'July 16, 2018', '4.3.0.508', '4.4 and up']\n"
          ]
        }
      ]
    },
    {
      "cell_type": "code",
      "source": [
        "for app in google:\n",
        "   if app[0]==\"DRAGON BALL LEGENDS\":\n",
        "      print (app)"
      ],
      "metadata": {
        "colab": {
          "base_uri": "https://localhost:8080/"
        },
        "id": "x4Z3nSpdUCgn",
        "outputId": "55e3b6b2-72e3-4ccb-8fc5-b446bb94d4cd"
      },
      "execution_count": 102,
      "outputs": [
        {
          "output_type": "stream",
          "name": "stdout",
          "text": [
            "['DRAGON BALL LEGENDS', 'GAME', '4.6', '337752', '48M', '5,000,000+', 'Free', '0', 'Teen', 'Action', 'August 3, 2018', '1.11.0', '6.0 and up']\n",
            "['DRAGON BALL LEGENDS', 'GAME', '4.6', '337913', '48M', '5,000,000+', 'Free', '0', 'Teen', 'Action', 'August 3, 2018', '1.11.0', '6.0 and up']\n",
            "['DRAGON BALL LEGENDS', 'GAME', '4.6', '337913', '48M', '5,000,000+', 'Free', '0', 'Teen', 'Action', 'August 3, 2018', '1.11.0', '6.0 and up']\n",
            "['DRAGON BALL LEGENDS', 'GAME', '4.6', '338742', '48M', '5,000,000+', 'Free', '0', 'Teen', 'Action', 'August 3, 2018', '1.11.0', '6.0 and up']\n"
          ]
        }
      ]
    },
    {
      "cell_type": "code",
      "source": [
        "print(google_hdr)\n",
        "google_hdr[0].index('Reviews')\n"
      ],
      "metadata": {
        "colab": {
          "base_uri": "https://localhost:8080/"
        },
        "id": "EtdItMWqU7Xn",
        "outputId": "3f7f9ba1-bda6-4407-c6fc-ff0bd7e8b1e8"
      },
      "execution_count": 103,
      "outputs": [
        {
          "output_type": "stream",
          "name": "stdout",
          "text": [
            "[['App', 'Category', 'Rating', 'Reviews', 'Size', 'Installs', 'Type', 'Price', 'Content Rating', 'Genres', 'Last Updated', 'Current Ver', 'Android Ver']]\n"
          ]
        },
        {
          "output_type": "execute_result",
          "data": {
            "text/plain": [
              "3"
            ]
          },
          "metadata": {},
          "execution_count": 103
        }
      ]
    },
    {
      "cell_type": "code",
      "source": [
        "#empty dictionaryy to store all max reviews\n",
        "reviews_max={}\n",
        "for row in google:\n",
        "  app_name=row[0]\n",
        "  reviews=float(row[3])\n",
        "  if app_name in reviews_max and reviews_max[app_name]<reviews:\n",
        "           reviews_max[app_name]=float(row[3])\n",
        "\n",
        "  if app_name not in reviews_max:\n",
        "    reviews_max[app_name]=reviews\n",
        "print(len(reviews_max))         "
      ],
      "metadata": {
        "colab": {
          "base_uri": "https://localhost:8080/"
        },
        "id": "JFxfYu2TGurz",
        "outputId": "3b5872ae-2116-4210-cf9e-77eeb09ce9ce"
      },
      "execution_count": 104,
      "outputs": [
        {
          "output_type": "stream",
          "name": "stdout",
          "text": [
            "9659\n"
          ]
        }
      ]
    },
    {
      "cell_type": "code",
      "source": [
        "#using max dict to delete all duplicate entries in the data set\n",
        "google_clean=[]\n",
        "already_added=[]\n",
        "for app_row in google:\n",
        "     app_name=app_row[0]\n",
        "     reviews=float(app_row[3])\n",
        "     if (reviews==reviews_max[app_name]) and (app_name not in already_added):\n",
        "        google_clean.append(app_row)\n",
        "        already_added.append(app_name)"
      ],
      "metadata": {
        "id": "0bXPdZKOH8wb"
      },
      "execution_count": 105,
      "outputs": []
    },
    {
      "cell_type": "code",
      "source": [
        "print(google_clean[:5])\n",
        "len(google_clean)"
      ],
      "metadata": {
        "colab": {
          "base_uri": "https://localhost:8080/"
        },
        "id": "0jiXjFXdJZPP",
        "outputId": "a7dc95fe-85fe-4b80-edf0-868ffe1a3bd1"
      },
      "execution_count": 106,
      "outputs": [
        {
          "output_type": "stream",
          "name": "stdout",
          "text": [
            "[['Photo Editor & Candy Camera & Grid & ScrapBook', 'ART_AND_DESIGN', '4.1', '159', '19M', '10,000+', 'Free', '0', 'Everyone', 'Art & Design', 'January 7, 2018', '1.0.0', '4.0.3 and up'], ['U Launcher Lite – FREE Live Cool Themes, Hide Apps', 'ART_AND_DESIGN', '4.7', '87510', '8.7M', '5,000,000+', 'Free', '0', 'Everyone', 'Art & Design', 'August 1, 2018', '1.2.4', '4.0.3 and up'], ['Sketch - Draw & Paint', 'ART_AND_DESIGN', '4.5', '215644', '25M', '50,000,000+', 'Free', '0', 'Teen', 'Art & Design', 'June 8, 2018', 'Varies with device', '4.2 and up'], ['Pixel Draw - Number Art Coloring Book', 'ART_AND_DESIGN', '4.3', '967', '2.8M', '100,000+', 'Free', '0', 'Everyone', 'Art & Design;Creativity', 'June 20, 2018', '1.1', '4.4 and up'], ['Paper flowers instructions', 'ART_AND_DESIGN', '4.4', '167', '5.6M', '50,000+', 'Free', '0', 'Everyone', 'Art & Design', 'March 26, 2017', '1.0', '2.3 and up']]\n"
          ]
        },
        {
          "output_type": "execute_result",
          "data": {
            "text/plain": [
              "9659"
            ]
          },
          "metadata": {},
          "execution_count": 106
        }
      ]
    },
    {
      "cell_type": "code",
      "source": [
        "#removing non english app\n",
        "def onlyenglish_apps(input_string):\n",
        "  for s in input_string:\n",
        "    if ord(s) in range(0,128):\n",
        "      return True\n",
        "    else:\n",
        "      return False  "
      ],
      "metadata": {
        "id": "rZn72Gj7J2JW"
      },
      "execution_count": 107,
      "outputs": []
    },
    {
      "cell_type": "code",
      "source": [
        "#optimized above function to accept some charcters above the range given\n",
        "def onlyenglishh_apps(input_string):\n",
        "  count=0\n",
        "  for s in input_string:\n",
        "    if ord(s)>127:\n",
        "       count+=1\n",
        "  if count<=3:\n",
        "      return True\n",
        "  else:\n",
        "      return False   "
      ],
      "metadata": {
        "id": "lwMVjBvUKiz9"
      },
      "execution_count": 108,
      "outputs": []
    },
    {
      "cell_type": "code",
      "source": [
        "english_nonduplicates=[]\n",
        "for app_row  in google_clean:\n",
        "   app_name=app_row[0]\n",
        "   if onlyenglishh_apps(app_name):\n",
        "    english_nonduplicates.append(app_row)\n",
        "\n",
        "english_apple=[]\n",
        "for app_row  in apple:\n",
        "   app_name=app_row[0]\n",
        "   if onlyenglishh_apps(app_name):\n",
        "    english_apple.append(app_row)  \n",
        "\n"
      ],
      "metadata": {
        "id": "tPdwCjycNXvZ"
      },
      "execution_count": 109,
      "outputs": []
    },
    {
      "cell_type": "code",
      "source": [
        "print(len(english_nonduplicates)) \n",
        "print(english_nonduplicates[:5])"
      ],
      "metadata": {
        "colab": {
          "base_uri": "https://localhost:8080/"
        },
        "id": "2zLVrW7DOtuO",
        "outputId": "6a6da7d2-8491-4ca3-fe55-e8feec5e25f0"
      },
      "execution_count": 110,
      "outputs": [
        {
          "output_type": "stream",
          "name": "stdout",
          "text": [
            "9614\n",
            "[['Photo Editor & Candy Camera & Grid & ScrapBook', 'ART_AND_DESIGN', '4.1', '159', '19M', '10,000+', 'Free', '0', 'Everyone', 'Art & Design', 'January 7, 2018', '1.0.0', '4.0.3 and up'], ['U Launcher Lite – FREE Live Cool Themes, Hide Apps', 'ART_AND_DESIGN', '4.7', '87510', '8.7M', '5,000,000+', 'Free', '0', 'Everyone', 'Art & Design', 'August 1, 2018', '1.2.4', '4.0.3 and up'], ['Sketch - Draw & Paint', 'ART_AND_DESIGN', '4.5', '215644', '25M', '50,000,000+', 'Free', '0', 'Teen', 'Art & Design', 'June 8, 2018', 'Varies with device', '4.2 and up'], ['Pixel Draw - Number Art Coloring Book', 'ART_AND_DESIGN', '4.3', '967', '2.8M', '100,000+', 'Free', '0', 'Everyone', 'Art & Design;Creativity', 'June 20, 2018', '1.1', '4.4 and up'], ['Paper flowers instructions', 'ART_AND_DESIGN', '4.4', '167', '5.6M', '50,000+', 'Free', '0', 'Everyone', 'Art & Design', 'March 26, 2017', '1.0', '2.3 and up']]\n"
          ]
        }
      ]
    },
    {
      "cell_type": "code",
      "source": [
        "print(len(english_apple)) \n",
        "print(english_apple[:5])"
      ],
      "metadata": {
        "colab": {
          "base_uri": "https://localhost:8080/"
        },
        "id": "kTUMYYqXQD69",
        "outputId": "dbfd1ab3-8f96-40b6-af50-fa6d55094bb1"
      },
      "execution_count": 111,
      "outputs": [
        {
          "output_type": "stream",
          "name": "stdout",
          "text": [
            "7197\n",
            "[['1', '281656475', 'PAC-MAN Premium', '100788224', 'USD', '3.99', '21292', '26', '4', '4.5', '6.3.5', '4+', 'Games', '38', '5', '10', '1'], ['2', '281796108', 'Evernote - stay organized', '158578688', 'USD', '0', '161065', '26', '4', '3.5', '8.2.2', '4+', 'Productivity', '37', '5', '23', '1'], ['3', '281940292', 'WeatherBug - Local Weather, Radar, Maps, Alerts', '100524032', 'USD', '0', '188583', '2822', '3.5', '4.5', '5.0.0', '4+', 'Weather', '37', '5', '3', '1'], ['4', '282614216', 'eBay: Best App to Buy, Sell, Save! Online Shopping', '128512000', 'USD', '0', '262241', '649', '4', '4.5', '5.10.0', '12+', 'Shopping', '37', '5', '9', '1'], ['5', '282935706', 'Bible', '92774400', 'USD', '0', '985920', '5320', '4.5', '5', '7.5.1', '4+', 'Reference', '37', '5', '45', '1']]\n"
          ]
        }
      ]
    },
    {
      "cell_type": "code",
      "source": [
        "price_index=apple_hdr[0].index('price')\n",
        "print(price_index)\n",
        "type(apple[0][5])\n",
        "\n"
      ],
      "metadata": {
        "colab": {
          "base_uri": "https://localhost:8080/"
        },
        "id": "8AWSAgLJQf5L",
        "outputId": "b36b6bcd-c6c1-4d52-f309-c22f02a349b9"
      },
      "execution_count": 112,
      "outputs": [
        {
          "output_type": "stream",
          "name": "stdout",
          "text": [
            "5\n"
          ]
        },
        {
          "output_type": "execute_result",
          "data": {
            "text/plain": [
              "str"
            ]
          },
          "metadata": {},
          "execution_count": 112
        }
      ]
    },
    {
      "cell_type": "code",
      "source": [
        "free_english_nonduplicates=[]\n",
        "for app_row in english_nonduplicates:\n",
        "  if app_row[7]=='0':\n",
        "    free_english_nonduplicates.append(app_row)\n",
        "\n",
        "free_english_apple=[]\n",
        "for app_row in english_apple:\n",
        "  if app_row[5]=='0':\n",
        "    free_english_apple.append(app_row)    \n"
      ],
      "metadata": {
        "id": "QlHG7ibKRuln"
      },
      "execution_count": 113,
      "outputs": []
    },
    {
      "cell_type": "code",
      "source": [
        "#no of rows left in both google and apple after cleaning\n",
        "\n",
        "len(free_english_apple)"
      ],
      "metadata": {
        "colab": {
          "base_uri": "https://localhost:8080/"
        },
        "id": "EsjM97mFSmWs",
        "outputId": "6b47255b-dbcb-4f28-9315-0fde95ca12be"
      },
      "execution_count": 114,
      "outputs": [
        {
          "output_type": "execute_result",
          "data": {
            "text/plain": [
              "4056"
            ]
          },
          "metadata": {},
          "execution_count": 114
        }
      ]
    },
    {
      "cell_type": "code",
      "source": [
        "len(free_english_nonduplicates)\n"
      ],
      "metadata": {
        "colab": {
          "base_uri": "https://localhost:8080/"
        },
        "id": "Esj7E2xETVvG",
        "outputId": "4a30accb-25ba-48c7-cef6-d2399b335abe"
      },
      "execution_count": 115,
      "outputs": [
        {
          "output_type": "execute_result",
          "data": {
            "text/plain": [
              "8864"
            ]
          },
          "metadata": {},
          "execution_count": 115
        }
      ]
    },
    {
      "cell_type": "code",
      "source": [
        "#frequecy table\n",
        "import matplotlib.pyplot as plt\n",
        "def freq_table(dataset,index):\n",
        "  table={}\n",
        "  total=0\n",
        "  for app_row in dataset:\n",
        "    total+=1\n",
        "    item=app_row[index]\n",
        "    if item in table:\n",
        "      table[item]+=1\n",
        "    else:\n",
        "      table[item]=1\n",
        "      freq_percentage={}\n",
        "  for key in table:\n",
        "      freq_percentage[key]=(table[key]/total)*100\n",
        "      \n",
        "  return freq_percentage \n",
        "  plt.bar(table,freq_percentage)\n",
        "  plt.show()\n",
        "  \n",
        "\n"
      ],
      "metadata": {
        "id": "_Qce-zwwVOmU"
      },
      "execution_count": 116,
      "outputs": []
    },
    {
      "cell_type": "code",
      "source": [
        "#display function for above frequency table\n",
        "from tabulate import tabulate\n",
        "def display_table(dataset,index):\n",
        "  table=freq_table(dataset,index)\n",
        "  table_display=[]\n",
        "  for key in table:\n",
        "    key_val_as_tuple=(table[key],key)\n",
        "    table_display.append(key_val_as_tuple)\n",
        "  table_sorted=sorted(table_display,reverse=True)\n",
        "  for entry in table_sorted:\n",
        "    print((entry[1],':',entry[0]))\n",
        "  "
      ],
      "metadata": {
        "id": "4PzmfyMIXVLL"
      },
      "execution_count": 117,
      "outputs": []
    },
    {
      "cell_type": "code",
      "source": [
        "#table for genre category\n",
        "display_table(free_english_nonduplicates,9)"
      ],
      "metadata": {
        "colab": {
          "base_uri": "https://localhost:8080/"
        },
        "id": "EV_nhGCZe98a",
        "outputId": "2e3c18d4-3b58-42fa-a198-bfc2606a562d"
      },
      "execution_count": 118,
      "outputs": [
        {
          "output_type": "stream",
          "name": "stdout",
          "text": [
            "('Tools', ':', 8.449909747292418)\n",
            "('Entertainment', ':', 6.069494584837545)\n",
            "('Education', ':', 5.347472924187725)\n",
            "('Business', ':', 4.591606498194946)\n",
            "('Productivity', ':', 3.892148014440433)\n",
            "('Lifestyle', ':', 3.892148014440433)\n",
            "('Finance', ':', 3.7003610108303246)\n",
            "('Medical', ':', 3.531137184115524)\n",
            "('Sports', ':', 3.463447653429603)\n",
            "('Personalization', ':', 3.3167870036101084)\n",
            "('Communication', ':', 3.2378158844765346)\n",
            "('Action', ':', 3.1024368231046933)\n",
            "('Health & Fitness', ':', 3.0798736462093865)\n",
            "('Photography', ':', 2.944494584837545)\n",
            "('News & Magazines', ':', 2.7978339350180503)\n",
            "('Social', ':', 2.6624548736462095)\n",
            "('Travel & Local', ':', 2.3240072202166067)\n",
            "('Shopping', ':', 2.2450361010830324)\n",
            "('Books & Reference', ':', 2.1435018050541514)\n",
            "('Simulation', ':', 2.0419675090252705)\n",
            "('Dating', ':', 1.861462093862816)\n",
            "('Arcade', ':', 1.8501805054151623)\n",
            "('Video Players & Editors', ':', 1.7712093862815883)\n",
            "('Casual', ':', 1.7599277978339352)\n",
            "('Maps & Navigation', ':', 1.3989169675090252)\n",
            "('Food & Drink', ':', 1.2409747292418771)\n",
            "('Puzzle', ':', 1.128158844765343)\n",
            "('Racing', ':', 0.9927797833935018)\n",
            "('Role Playing', ':', 0.9363718411552346)\n",
            "('Libraries & Demo', ':', 0.9363718411552346)\n",
            "('Auto & Vehicles', ':', 0.9250902527075812)\n",
            "('Strategy', ':', 0.9138086642599278)\n",
            "('House & Home', ':', 0.8235559566787004)\n",
            "('Weather', ':', 0.8009927797833934)\n",
            "('Events', ':', 0.7107400722021661)\n",
            "('Adventure', ':', 0.6768953068592057)\n",
            "('Comics', ':', 0.6092057761732852)\n",
            "('Beauty', ':', 0.5979241877256317)\n",
            "('Art & Design', ':', 0.5979241877256317)\n",
            "('Parenting', ':', 0.4963898916967509)\n",
            "('Card', ':', 0.45126353790613716)\n",
            "('Casino', ':', 0.42870036101083037)\n",
            "('Trivia', ':', 0.41741877256317694)\n",
            "('Educational;Education', ':', 0.39485559566787)\n",
            "('Board', ':', 0.3835740072202166)\n",
            "('Educational', ':', 0.3722924187725632)\n",
            "('Education;Education', ':', 0.33844765342960287)\n",
            "('Word', ':', 0.2594765342960289)\n",
            "('Casual;Pretend Play', ':', 0.236913357400722)\n",
            "('Music', ':', 0.2030685920577617)\n",
            "('Racing;Action & Adventure', ':', 0.16922382671480143)\n",
            "('Puzzle;Brain Games', ':', 0.16922382671480143)\n",
            "('Entertainment;Music & Video', ':', 0.16922382671480143)\n",
            "('Casual;Brain Games', ':', 0.13537906137184114)\n",
            "('Casual;Action & Adventure', ':', 0.13537906137184114)\n",
            "('Arcade;Action & Adventure', ':', 0.12409747292418773)\n",
            "('Action;Action & Adventure', ':', 0.10153429602888085)\n",
            "('Educational;Pretend Play', ':', 0.09025270758122744)\n",
            "('Simulation;Action & Adventure', ':', 0.078971119133574)\n",
            "('Parenting;Education', ':', 0.078971119133574)\n",
            "('Entertainment;Brain Games', ':', 0.078971119133574)\n",
            "('Board;Brain Games', ':', 0.078971119133574)\n",
            "('Parenting;Music & Video', ':', 0.06768953068592057)\n",
            "('Educational;Brain Games', ':', 0.06768953068592057)\n",
            "('Casual;Creativity', ':', 0.06768953068592057)\n",
            "('Art & Design;Creativity', ':', 0.06768953068592057)\n",
            "('Education;Pretend Play', ':', 0.056407942238267145)\n",
            "('Role Playing;Pretend Play', ':', 0.04512635379061372)\n",
            "('Education;Creativity', ':', 0.04512635379061372)\n",
            "('Role Playing;Action & Adventure', ':', 0.033844765342960284)\n",
            "('Puzzle;Action & Adventure', ':', 0.033844765342960284)\n",
            "('Entertainment;Creativity', ':', 0.033844765342960284)\n",
            "('Entertainment;Action & Adventure', ':', 0.033844765342960284)\n",
            "('Educational;Creativity', ':', 0.033844765342960284)\n",
            "('Educational;Action & Adventure', ':', 0.033844765342960284)\n",
            "('Education;Music & Video', ':', 0.033844765342960284)\n",
            "('Education;Brain Games', ':', 0.033844765342960284)\n",
            "('Education;Action & Adventure', ':', 0.033844765342960284)\n",
            "('Adventure;Action & Adventure', ':', 0.033844765342960284)\n",
            "('Video Players & Editors;Music & Video', ':', 0.02256317689530686)\n",
            "('Sports;Action & Adventure', ':', 0.02256317689530686)\n",
            "('Simulation;Pretend Play', ':', 0.02256317689530686)\n",
            "('Puzzle;Creativity', ':', 0.02256317689530686)\n",
            "('Music;Music & Video', ':', 0.02256317689530686)\n",
            "('Entertainment;Pretend Play', ':', 0.02256317689530686)\n",
            "('Casual;Education', ':', 0.02256317689530686)\n",
            "('Board;Action & Adventure', ':', 0.02256317689530686)\n",
            "('Video Players & Editors;Creativity', ':', 0.01128158844765343)\n",
            "('Trivia;Education', ':', 0.01128158844765343)\n",
            "('Travel & Local;Action & Adventure', ':', 0.01128158844765343)\n",
            "('Tools;Education', ':', 0.01128158844765343)\n",
            "('Strategy;Education', ':', 0.01128158844765343)\n",
            "('Strategy;Creativity', ':', 0.01128158844765343)\n",
            "('Strategy;Action & Adventure', ':', 0.01128158844765343)\n",
            "('Simulation;Education', ':', 0.01128158844765343)\n",
            "('Role Playing;Brain Games', ':', 0.01128158844765343)\n",
            "('Racing;Pretend Play', ':', 0.01128158844765343)\n",
            "('Puzzle;Education', ':', 0.01128158844765343)\n",
            "('Parenting;Brain Games', ':', 0.01128158844765343)\n",
            "('Music & Audio;Music & Video', ':', 0.01128158844765343)\n",
            "('Lifestyle;Pretend Play', ':', 0.01128158844765343)\n",
            "('Lifestyle;Education', ':', 0.01128158844765343)\n",
            "('Health & Fitness;Education', ':', 0.01128158844765343)\n",
            "('Health & Fitness;Action & Adventure', ':', 0.01128158844765343)\n",
            "('Entertainment;Education', ':', 0.01128158844765343)\n",
            "('Communication;Creativity', ':', 0.01128158844765343)\n",
            "('Comics;Creativity', ':', 0.01128158844765343)\n",
            "('Casual;Music & Video', ':', 0.01128158844765343)\n",
            "('Card;Action & Adventure', ':', 0.01128158844765343)\n",
            "('Books & Reference;Education', ':', 0.01128158844765343)\n",
            "('Art & Design;Pretend Play', ':', 0.01128158844765343)\n",
            "('Art & Design;Action & Adventure', ':', 0.01128158844765343)\n",
            "('Arcade;Pretend Play', ':', 0.01128158844765343)\n",
            "('Adventure;Education', ':', 0.01128158844765343)\n"
          ]
        }
      ]
    },
    {
      "cell_type": "code",
      "source": [
        "#tools entertainment education business generes are most common.These genres have more users."
      ],
      "metadata": {
        "id": "B7BqL7PypxIz"
      },
      "execution_count": 119,
      "outputs": []
    },
    {
      "cell_type": "code",
      "source": [
        "#table based on category column\n",
        "display_table(free_english_nonduplicates,1)"
      ],
      "metadata": {
        "colab": {
          "base_uri": "https://localhost:8080/"
        },
        "id": "NfmS1g6KqCCB",
        "outputId": "0b2f3961-9a9e-426d-d304-bca7c8c863ca"
      },
      "execution_count": 120,
      "outputs": [
        {
          "output_type": "stream",
          "name": "stdout",
          "text": [
            "('FAMILY', ':', 18.907942238267147)\n",
            "('GAME', ':', 9.724729241877256)\n",
            "('TOOLS', ':', 8.461191335740072)\n",
            "('BUSINESS', ':', 4.591606498194946)\n",
            "('LIFESTYLE', ':', 3.9034296028880866)\n",
            "('PRODUCTIVITY', ':', 3.892148014440433)\n",
            "('FINANCE', ':', 3.7003610108303246)\n",
            "('MEDICAL', ':', 3.531137184115524)\n",
            "('SPORTS', ':', 3.395758122743682)\n",
            "('PERSONALIZATION', ':', 3.3167870036101084)\n",
            "('COMMUNICATION', ':', 3.2378158844765346)\n",
            "('HEALTH_AND_FITNESS', ':', 3.0798736462093865)\n",
            "('PHOTOGRAPHY', ':', 2.944494584837545)\n",
            "('NEWS_AND_MAGAZINES', ':', 2.7978339350180503)\n",
            "('SOCIAL', ':', 2.6624548736462095)\n",
            "('TRAVEL_AND_LOCAL', ':', 2.33528880866426)\n",
            "('SHOPPING', ':', 2.2450361010830324)\n",
            "('BOOKS_AND_REFERENCE', ':', 2.1435018050541514)\n",
            "('DATING', ':', 1.861462093862816)\n",
            "('VIDEO_PLAYERS', ':', 1.7937725631768955)\n",
            "('MAPS_AND_NAVIGATION', ':', 1.3989169675090252)\n",
            "('FOOD_AND_DRINK', ':', 1.2409747292418771)\n",
            "('EDUCATION', ':', 1.1620036101083033)\n",
            "('ENTERTAINMENT', ':', 0.9589350180505415)\n",
            "('LIBRARIES_AND_DEMO', ':', 0.9363718411552346)\n",
            "('AUTO_AND_VEHICLES', ':', 0.9250902527075812)\n",
            "('HOUSE_AND_HOME', ':', 0.8235559566787004)\n",
            "('WEATHER', ':', 0.8009927797833934)\n",
            "('EVENTS', ':', 0.7107400722021661)\n",
            "('PARENTING', ':', 0.6543321299638989)\n",
            "('ART_AND_DESIGN', ':', 0.6430505415162455)\n",
            "('COMICS', ':', 0.6204873646209386)\n",
            "('BEAUTY', ':', 0.5979241877256317)\n"
          ]
        }
      ]
    },
    {
      "cell_type": "code",
      "source": [
        "#family game tools are most popular categories"
      ],
      "metadata": {
        "id": "rY2DsJ3MxKpI"
      },
      "execution_count": null,
      "outputs": []
    },
    {
      "cell_type": "code",
      "source": [
        "#for apple apps\n",
        "display_table(free_english_apple,12)"
      ],
      "metadata": {
        "colab": {
          "base_uri": "https://localhost:8080/"
        },
        "id": "zgAT5YCQxYwN",
        "outputId": "d9d4f792-6b2c-4e0e-f8a1-3a154a81a803"
      },
      "execution_count": 122,
      "outputs": [
        {
          "output_type": "stream",
          "name": "stdout",
          "text": [
            "('Games', ':', 55.64595660749507)\n",
            "('Entertainment', ':', 8.234714003944774)\n",
            "('Photo & Video', ':', 4.117357001972387)\n",
            "('Social Networking', ':', 3.5256410256410255)\n",
            "('Education', ':', 3.2544378698224854)\n",
            "('Shopping', ':', 2.983234714003945)\n",
            "('Utilities', ':', 2.687376725838264)\n",
            "('Lifestyle', ':', 2.3175542406311638)\n",
            "('Finance', ':', 2.0710059171597637)\n",
            "('Sports', ':', 1.947731755424063)\n",
            "('Health & Fitness', ':', 1.8737672583826428)\n",
            "('Music', ':', 1.6518737672583828)\n",
            "('Book', ':', 1.6272189349112427)\n",
            "('Productivity', ':', 1.5285996055226825)\n",
            "('News', ':', 1.4299802761341223)\n",
            "('Travel', ':', 1.3806706114398422)\n",
            "('Food & Drink', ':', 1.0601577909270217)\n",
            "('Weather', ':', 0.7642998027613412)\n",
            "('Reference', ':', 0.4930966469428008)\n",
            "('Navigation', ':', 0.4930966469428008)\n",
            "('Business', ':', 0.4930966469428008)\n",
            "('Catalogs', ':', 0.22189349112426035)\n",
            "('Medical', ':', 0.19723865877712032)\n"
          ]
        }
      ]
    },
    {
      "cell_type": "code",
      "source": [
        "#Games entertainment photo and video social networking are most popular"
      ],
      "metadata": {
        "id": "2BA0tDuBxugC"
      },
      "execution_count": null,
      "outputs": []
    },
    {
      "cell_type": "code",
      "source": [
        "#freq table for apple\n",
        "apple_genre_freq=freq_table(free_english_apple,12)\n",
        "apple_genre_freq"
      ],
      "metadata": {
        "colab": {
          "base_uri": "https://localhost:8080/"
        },
        "id": "O4Xm7eW4x3CV",
        "outputId": "becede93-203e-4bb4-ac9d-2b1b504b4776"
      },
      "execution_count": 124,
      "outputs": [
        {
          "output_type": "execute_result",
          "data": {
            "text/plain": [
              "{'Productivity': 1.5285996055226825,\n",
              " 'Weather': 0.7642998027613412,\n",
              " 'Shopping': 2.983234714003945,\n",
              " 'Reference': 0.4930966469428008,\n",
              " 'Finance': 2.0710059171597637,\n",
              " 'Music': 1.6518737672583828,\n",
              " 'Utilities': 2.687376725838264,\n",
              " 'Travel': 1.3806706114398422,\n",
              " 'Social Networking': 3.5256410256410255,\n",
              " 'Sports': 1.947731755424063,\n",
              " 'Health & Fitness': 1.8737672583826428,\n",
              " 'Games': 55.64595660749507,\n",
              " 'Food & Drink': 1.0601577909270217,\n",
              " 'News': 1.4299802761341223,\n",
              " 'Book': 1.6272189349112427,\n",
              " 'Photo & Video': 4.117357001972387,\n",
              " 'Entertainment': 8.234714003944774,\n",
              " 'Business': 0.4930966469428008,\n",
              " 'Lifestyle': 2.3175542406311638,\n",
              " 'Education': 3.2544378698224854,\n",
              " 'Navigation': 0.4930966469428008,\n",
              " 'Medical': 0.19723865877712032,\n",
              " 'Catalogs': 0.22189349112426035}"
            ]
          },
          "metadata": {},
          "execution_count": 124
        }
      ]
    },
    {
      "cell_type": "code",
      "source": [
        "#looping over apple genre frequency\n",
        "for genre in apple_genre_freq:\n",
        "  total=0\n",
        "  len_genre=0\n",
        "  for app_row in free_english_apple:\n",
        "    genre_app=app_row[12]\n",
        "    if genre_app==genre:\n",
        "      n_ratings=float(app_row[6])\n",
        "      total+=n_ratings\n",
        "      len_genre+=1\n",
        "  avg_n_ratings=total/len_genre\n",
        "  print(genre,':',avg_n_ratings)"
      ],
      "metadata": {
        "colab": {
          "base_uri": "https://localhost:8080/"
        },
        "id": "YRS-Dq132B9I",
        "outputId": "0ec4a9ee-3c8a-49c7-8691-4bb1e7c20c73"
      },
      "execution_count": 126,
      "outputs": [
        {
          "output_type": "stream",
          "name": "stdout",
          "text": [
            "Productivity : 19053.887096774193\n",
            "Weather : 47220.93548387097\n",
            "Shopping : 18746.677685950413\n",
            "Reference : 67447.9\n",
            "Finance : 13522.261904761905\n",
            "Music : 56482.02985074627\n",
            "Utilities : 14010.100917431193\n",
            "Travel : 20216.01785714286\n",
            "Social Networking : 53078.195804195806\n",
            "Sports : 20128.974683544304\n",
            "Health & Fitness : 19952.315789473683\n",
            "Games : 18924.68896765618\n",
            "Food & Drink : 20179.093023255813\n",
            "News : 15892.724137931034\n",
            "Book : 8498.333333333334\n",
            "Photo & Video : 27249.892215568863\n",
            "Entertainment : 10822.961077844311\n",
            "Business : 6367.8\n",
            "Lifestyle : 8978.308510638299\n",
            "Education : 6266.333333333333\n",
            "Navigation : 25972.05\n",
            "Medical : 459.75\n",
            "Catalogs : 1779.5555555555557\n"
          ]
        }
      ]
    },
    {
      "cell_type": "code",
      "source": [
        "#based on no. of installs\n",
        "display_table(free_english_nonduplicates,5)\n"
      ],
      "metadata": {
        "colab": {
          "base_uri": "https://localhost:8080/"
        },
        "id": "Tr-GXhL_3Ahv",
        "outputId": "852eb802-570c-4f42-8318-28771f553b1a"
      },
      "execution_count": 127,
      "outputs": [
        {
          "output_type": "stream",
          "name": "stdout",
          "text": [
            "('1,000,000+', ':', 15.726534296028879)\n",
            "('100,000+', ':', 11.552346570397113)\n",
            "('10,000,000+', ':', 10.548285198555957)\n",
            "('10,000+', ':', 10.198555956678701)\n",
            "('1,000+', ':', 8.393501805054152)\n",
            "('100+', ':', 6.915613718411552)\n",
            "('5,000,000+', ':', 6.825361010830325)\n",
            "('500,000+', ':', 5.561823104693141)\n",
            "('50,000+', ':', 4.7721119133574)\n",
            "('5,000+', ':', 4.512635379061372)\n",
            "('10+', ':', 3.5424187725631766)\n",
            "('500+', ':', 3.2490974729241873)\n",
            "('50,000,000+', ':', 2.3014440433213)\n",
            "('100,000,000+', ':', 2.1322202166064983)\n",
            "('50+', ':', 1.917870036101083)\n",
            "('5+', ':', 0.78971119133574)\n",
            "('1+', ':', 0.5076714801444043)\n",
            "('500,000,000+', ':', 0.2707581227436823)\n",
            "('1,000,000,000+', ':', 0.22563176895306858)\n",
            "('0+', ':', 0.04512635379061372)\n",
            "('0', ':', 0.01128158844765343)\n"
          ]
        }
      ]
    },
    {
      "cell_type": "code",
      "source": [
        "#freq table to get unique app genres in category column\n",
        "category_freq=freq_table(free_english_nonduplicates,1)\n",
        "print(category_freq)\n",
        "category_freq"
      ],
      "metadata": {
        "colab": {
          "base_uri": "https://localhost:8080/"
        },
        "id": "anJrXmkX3SMk",
        "outputId": "736bbfd9-82e1-458b-d4f9-c76160889f68"
      },
      "execution_count": 128,
      "outputs": [
        {
          "output_type": "stream",
          "name": "stdout",
          "text": [
            "{'ART_AND_DESIGN': 0.6430505415162455, 'AUTO_AND_VEHICLES': 0.9250902527075812, 'BEAUTY': 0.5979241877256317, 'BOOKS_AND_REFERENCE': 2.1435018050541514, 'BUSINESS': 4.591606498194946, 'COMICS': 0.6204873646209386, 'COMMUNICATION': 3.2378158844765346, 'DATING': 1.861462093862816, 'EDUCATION': 1.1620036101083033, 'ENTERTAINMENT': 0.9589350180505415, 'EVENTS': 0.7107400722021661, 'FINANCE': 3.7003610108303246, 'FOOD_AND_DRINK': 1.2409747292418771, 'HEALTH_AND_FITNESS': 3.0798736462093865, 'HOUSE_AND_HOME': 0.8235559566787004, 'LIBRARIES_AND_DEMO': 0.9363718411552346, 'LIFESTYLE': 3.9034296028880866, 'GAME': 9.724729241877256, 'FAMILY': 18.907942238267147, 'MEDICAL': 3.531137184115524, 'SOCIAL': 2.6624548736462095, 'SHOPPING': 2.2450361010830324, 'PHOTOGRAPHY': 2.944494584837545, 'SPORTS': 3.395758122743682, 'TRAVEL_AND_LOCAL': 2.33528880866426, 'TOOLS': 8.461191335740072, 'PERSONALIZATION': 3.3167870036101084, 'PRODUCTIVITY': 3.892148014440433, 'PARENTING': 0.6543321299638989, 'WEATHER': 0.8009927797833934, 'VIDEO_PLAYERS': 1.7937725631768955, 'NEWS_AND_MAGAZINES': 2.7978339350180503, 'MAPS_AND_NAVIGATION': 1.3989169675090252}\n"
          ]
        },
        {
          "output_type": "execute_result",
          "data": {
            "text/plain": [
              "{'ART_AND_DESIGN': 0.6430505415162455,\n",
              " 'AUTO_AND_VEHICLES': 0.9250902527075812,\n",
              " 'BEAUTY': 0.5979241877256317,\n",
              " 'BOOKS_AND_REFERENCE': 2.1435018050541514,\n",
              " 'BUSINESS': 4.591606498194946,\n",
              " 'COMICS': 0.6204873646209386,\n",
              " 'COMMUNICATION': 3.2378158844765346,\n",
              " 'DATING': 1.861462093862816,\n",
              " 'EDUCATION': 1.1620036101083033,\n",
              " 'ENTERTAINMENT': 0.9589350180505415,\n",
              " 'EVENTS': 0.7107400722021661,\n",
              " 'FINANCE': 3.7003610108303246,\n",
              " 'FOOD_AND_DRINK': 1.2409747292418771,\n",
              " 'HEALTH_AND_FITNESS': 3.0798736462093865,\n",
              " 'HOUSE_AND_HOME': 0.8235559566787004,\n",
              " 'LIBRARIES_AND_DEMO': 0.9363718411552346,\n",
              " 'LIFESTYLE': 3.9034296028880866,\n",
              " 'GAME': 9.724729241877256,\n",
              " 'FAMILY': 18.907942238267147,\n",
              " 'MEDICAL': 3.531137184115524,\n",
              " 'SOCIAL': 2.6624548736462095,\n",
              " 'SHOPPING': 2.2450361010830324,\n",
              " 'PHOTOGRAPHY': 2.944494584837545,\n",
              " 'SPORTS': 3.395758122743682,\n",
              " 'TRAVEL_AND_LOCAL': 2.33528880866426,\n",
              " 'TOOLS': 8.461191335740072,\n",
              " 'PERSONALIZATION': 3.3167870036101084,\n",
              " 'PRODUCTIVITY': 3.892148014440433,\n",
              " 'PARENTING': 0.6543321299638989,\n",
              " 'WEATHER': 0.8009927797833934,\n",
              " 'VIDEO_PLAYERS': 1.7937725631768955,\n",
              " 'NEWS_AND_MAGAZINES': 2.7978339350180503,\n",
              " 'MAPS_AND_NAVIGATION': 1.3989169675090252}"
            ]
          },
          "metadata": {},
          "execution_count": 128
        }
      ]
    },
    {
      "cell_type": "code",
      "source": [
        "for category in category_freq:\n",
        "  total=0\n",
        "  len_category=0\n",
        "  for app_row in free_english_nonduplicates:\n",
        "    category_app=app_row[1]\n",
        "    if category_app==category:\n",
        "      n_installs=app_row[5].replace(',','').replace('+','')\n",
        "      total+=float(n_installs)\n",
        "      len_category+=1\n",
        "  avg_installs=total/len_category\n",
        "  print(category,':',avg_installs)\n"
      ],
      "metadata": {
        "colab": {
          "base_uri": "https://localhost:8080/"
        },
        "id": "SdphmUUl45Df",
        "outputId": "dd954bb6-6c44-4a33-b06b-1371d900988c"
      },
      "execution_count": 130,
      "outputs": [
        {
          "output_type": "stream",
          "name": "stdout",
          "text": [
            "ART_AND_DESIGN : 1986335.0877192982\n",
            "AUTO_AND_VEHICLES : 647317.8170731707\n",
            "BEAUTY : 513151.88679245283\n",
            "BOOKS_AND_REFERENCE : 8767811.894736841\n",
            "BUSINESS : 1712290.1474201474\n",
            "COMICS : 817657.2727272727\n",
            "COMMUNICATION : 38456119.167247385\n",
            "DATING : 854028.8303030303\n",
            "EDUCATION : 1833495.145631068\n",
            "ENTERTAINMENT : 11640705.88235294\n",
            "EVENTS : 253542.22222222222\n",
            "FINANCE : 1387692.475609756\n",
            "FOOD_AND_DRINK : 1924897.7363636363\n",
            "HEALTH_AND_FITNESS : 4188821.9853479853\n",
            "HOUSE_AND_HOME : 1331540.5616438356\n",
            "LIBRARIES_AND_DEMO : 638503.734939759\n",
            "LIFESTYLE : 1437816.2687861272\n",
            "GAME : 15588015.603248259\n",
            "FAMILY : 3695641.8198090694\n",
            "MEDICAL : 120550.61980830671\n",
            "SOCIAL : 23253652.127118643\n",
            "SHOPPING : 7036877.311557789\n",
            "PHOTOGRAPHY : 17840110.40229885\n",
            "SPORTS : 3638640.1428571427\n",
            "TRAVEL_AND_LOCAL : 13984077.710144928\n",
            "TOOLS : 10801391.298666667\n",
            "PERSONALIZATION : 5201482.6122448975\n",
            "PRODUCTIVITY : 16787331.344927534\n",
            "PARENTING : 542603.6206896552\n",
            "WEATHER : 5074486.197183099\n",
            "VIDEO_PLAYERS : 24727872.452830188\n",
            "NEWS_AND_MAGAZINES : 9549178.467741935\n",
            "MAPS_AND_NAVIGATION : 4056941.7741935486\n"
          ]
        }
      ]
    }
  ]
}